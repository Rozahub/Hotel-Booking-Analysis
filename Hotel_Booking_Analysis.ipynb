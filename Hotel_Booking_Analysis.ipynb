{
  "nbformat": 4,
  "nbformat_minor": 0,
  "metadata": {
    "colab": {
      "private_outputs": true,
      "provenance": [],
      "collapsed_sections": [
        "vncDsAP0Gaoa",
        "FJNUwmbgGyua",
        "w6K7xa23Elo4",
        "yQaldy8SH6Dl",
        "PH-0ReGfmX4f",
        "mDgbUHAGgjLW",
        "O_i_v8NEhb9l",
        "HhfV-JJviCcP",
        "Y3lxredqlCYt",
        "3RnN4peoiCZX",
        "x71ZqKXriCWQ",
        "7hBIi_osiCS2",
        "JlHwYmJAmNHm",
        "35m5QtbWiB9F",
        "PoPl-ycgm1ru",
        "H0kj-8xxnORC",
        "nA9Y7ga8ng1Z",
        "PBTbrJXOngz2",
        "u3PMJOP6ngxN",
        "dauF4eBmngu3",
        "bKJF3rekwFvQ",
        "MSa1f5Uengrz",
        "GF8Ens_Soomf",
        "0wOQAZs5pc--",
        "K5QZ13OEpz2H",
        "lQ7QKXXCp7Bj",
        "448CDAPjqfQr",
        "KSlN3yHqYklG",
        "t6dVpIINYklI",
        "ijmpgYnKYklI",
        "-JiQyfWJYklI",
        "EM7whBJCYoAo",
        "fge-S5ZAYoAp",
        "85gYPyotYoAp",
        "RoGjAbkUYoAp",
        "4Of9eVA-YrdM",
        "iky9q4vBYrdO",
        "F6T5p64dYrdO",
        "y-Ehk30pYrdP",
        "bamQiAODYuh1",
        "QHF8YVU7Yuh3",
        "GwzvFGzlYuh3",
        "qYpmQ266Yuh3",
        "OH-pJp9IphqM",
        "bbFf2-_FphqN",
        "_ouA3fa0phqN",
        "Seke61FWphqN",
        "PIIx-8_IphqN",
        "t27r6nlMphqO",
        "r2jJGEOYphqO",
        "b0JNsNcRphqO",
        "BZR9WyysphqO",
        "jj7wYXLtphqO",
        "eZrbJ2SmphqO",
        "rFu4xreNphqO",
        "YJ55k-q6phqO",
        "gCFgpxoyphqP",
        "OVtJsKN_phqQ",
        "lssrdh5qphqQ",
        "U2RJ9gkRphqQ",
        "1M8mcRywphqQ",
        "tgIPom80phqQ",
        "JMzcOPDDphqR",
        "x-EpHcCOp1ci",
        "X_VqEhTip1ck",
        "8zGJKyg5p1ck",
        "PVzmfK_Ep1ck",
        "n3dbpmDWp1ck",
        "ylSl6qgtp1ck",
        "ZWILFDl5p1ck",
        "M7G43BXep1ck",
        "Ag9LCva-p1cl",
        "E6MkPsBcp1cl",
        "2cELzS2fp1cl",
        "3MPXvC8up1cl",
        "NC_X3p0fY2L0",
        "UV0SzAkaZNRQ",
        "YPEH6qLeZNRQ",
        "q29F0dvdveiT",
        "EXh0U9oCveiU",
        "22aHeOlLveiV",
        "JcMwzZxoAimU",
        "8G2x9gOozGDZ",
        "gCX9965dhzqZ",
        "gIfDvo9L0UH2"
      ],
      "include_colab_link": true
    },
    "kernelspec": {
      "name": "python3",
      "display_name": "Python 3"
    },
    "language_info": {
      "name": "python"
    },
    "gpuClass": "standard"
  },
  "cells": [
    {
      "cell_type": "markdown",
      "metadata": {
        "id": "view-in-github",
        "colab_type": "text"
      },
      "source": [
        "<a href=\"https://colab.research.google.com/github/Rozahub/Hotel-Booking-Analysis/blob/main/Hotel_Booking_Analysis.ipynb\" target=\"_parent\"><img src=\"https://colab.research.google.com/assets/colab-badge.svg\" alt=\"Open In Colab\"/></a>"
      ]
    },
    {
      "cell_type": "markdown",
      "source": [
        "# **Project Name**    - \n",
        "\n"
      ],
      "metadata": {
        "id": "vncDsAP0Gaoa"
      }
    },
    {
      "cell_type": "markdown",
      "source": [
        "##### **Project Type**    - EDA\n",
        "##### **Contribution**    - Individual\n",
        "##### **Team Member 1 -** - Roja Rahman\n"
      ],
      "metadata": {
        "id": "beRrZCGUAJYm"
      }
    },
    {
      "cell_type": "markdown",
      "source": [
        "# **Project Summary -**"
      ],
      "metadata": {
        "id": "FJNUwmbgGyua"
      }
    },
    {
      "cell_type": "markdown",
      "source": [
        " We are a group of 5 people (Ashutosh, Roja, Shiva, Simran and Vinay) from Cohort Durban. The topic of our project is Hotel Booking Analysis.For this project we will be analyzing Hotel Booking Data. This data set contains booking information for a city hotel and a resort hotel, and includes information such as when the booking was made, length of stay, the number of adults, childrens or babies, and the number of available parking spaces. As we all know, Hotel industry is a very volatile industry and the bookings depend on above factors and many more. Our main objective behind this project is to explore and analyze the given data_set and draw useful conclusions about general trends in hotel bookings and how factors governing hotel bookings interact with each other. Also, to give insights to Hotel Management, which can perform various campaigns to boost the business and performances of hotels."
      ],
      "metadata": {
        "id": "F6v_1wHtG2nS"
      }
    },
    {
      "cell_type": "markdown",
      "source": [
        "# **GitHub Link -**"
      ],
      "metadata": {
        "id": "w6K7xa23Elo4"
      }
    },
    {
      "cell_type": "markdown",
      "source": [
        "Provide your GitHub Link here."
      ],
      "metadata": {
        "id": "h1o69JH3Eqqn"
      }
    },
    {
      "cell_type": "markdown",
      "source": [
        "# **Problem Statement**\n"
      ],
      "metadata": {
        "id": "yQaldy8SH6Dl"
      }
    },
    {
      "cell_type": "markdown",
      "source": [
        "Have you you ever wondered when the best time of year to book a hotel room is? Or the optimal length of stay in order to get the best daily rate? What if you wanted to predict whether or not a hotel was likely to receive a disproportionately high number of special requests? This hotel booking data set can help you explore those questions! This data set contains booking information for a city hotel and resort hotel and includes information such as when the booking was made, length of stay, the number of adult, children and/or babies and the number of available parking spaces, among other things. All personally identifying information has been removed from this data. Explore and analyse the data to discover important factors that govern the bookings.\n"
      ],
      "metadata": {
        "id": "DpeJGUA3kjGy"
      }
    },
    {
      "cell_type": "markdown",
      "source": [
        "#### **Define Your Business Objective?**"
      ],
      "metadata": {
        "id": "PH-0ReGfmX4f"
      }
    },
    {
      "cell_type": "markdown",
      "source": [
        "My business objective in this project after analyzing the given data_set is to draw useful conclusions about general trends in hotel bookings and how factors governing hotel bookings interact with each other and accordingly,give objectives as follows:\n",
        "\n",
        "*   Provide people seeking hotel rooms with accurate information about available accommodations.\n",
        "*   Allow booking of rooms without errors and without creating conflicts.\n",
        "*   To fill as many rooms as possible at a relatively high rate.\n",
        "*   Efficiency of booking, especially for repeat customers."
      ],
      "metadata": {
        "id": "PhDvGCAqmjP1"
      }
    },
    {
      "cell_type": "markdown",
      "source": [
        "# **General Guidelines** : -  "
      ],
      "metadata": {
        "id": "mDgbUHAGgjLW"
      }
    },
    {
      "cell_type": "markdown",
      "source": [
        "1.   Well-structured, formatted, and commented code is required. \n",
        "2.   Exception Handling, Production Grade Code & Deployment Ready Code will be a plus. Those students will be awarded some additional credits. \n",
        "     \n",
        "     The additional credits will have advantages over other students during Star Student selection.\n",
        "       \n",
        "             [ Note: - Deployment Ready Code is defined as, the whole .ipynb notebook should be executable in one go\n",
        "                       without a single error logged. ]\n",
        "\n",
        "3.   Each and every logic should have proper comments.\n",
        "4. You may add as many number of charts you want. Make Sure for each and every chart the following format should be answered.\n",
        "        \n",
        "\n",
        "```\n",
        "# Chart visualization code\n",
        "```\n",
        "            \n",
        "\n",
        "*   Why did you pick the specific chart?\n",
        "*   What is/are the insight(s) found from the chart?\n",
        "* Will the gained insights help creating a positive business impact? \n",
        "Are there any insights that lead to negative growth? Justify with specific reason.\n",
        "\n",
        "5. You have to create at least 20 logical & meaningful charts having important insights.\n",
        "\n",
        "\n",
        "[ Hints : - Do the Vizualization in  a structured way while following \"UBM\" Rule. \n",
        "\n",
        "U - Univariate Analysis,\n",
        "\n",
        "B - Bivariate Analysis (Numerical - Categorical, Numerical - Numerical, Categorical - Categorical)\n",
        "\n",
        "M - Multivariate Analysis\n",
        " ]\n",
        "\n",
        "\n",
        "\n"
      ],
      "metadata": {
        "id": "ZrxVaUj-hHfC"
      }
    },
    {
      "cell_type": "markdown",
      "source": [
        "# ***Let's Begin !***"
      ],
      "metadata": {
        "id": "O_i_v8NEhb9l"
      }
    },
    {
      "cell_type": "markdown",
      "source": [
        "## ***1. Know Your Data***"
      ],
      "metadata": {
        "id": "HhfV-JJviCcP"
      }
    },
    {
      "cell_type": "markdown",
      "source": [
        "### Import Libraries"
      ],
      "metadata": {
        "id": "Y3lxredqlCYt"
      }
    },
    {
      "cell_type": "code",
      "source": [
        "import pandas as pd\n",
        "import numpy as np\n",
        "import matplotlib.pyplot as plt\n",
        "%matplotlib inline\n",
        "import seaborn as sns"
      ],
      "metadata": {
        "id": "M8Vqi-pPk-HR"
      },
      "execution_count": null,
      "outputs": []
    },
    {
      "cell_type": "markdown",
      "source": [
        "### Dataset Mounting\n"
      ],
      "metadata": {
        "id": "3RnN4peoiCZX"
      }
    },
    {
      "cell_type": "code",
      "source": [
        "from google.colab import drive\n",
        "drive.mount('/content/hotel_booking.csv')"
      ],
      "metadata": {
        "id": "4CkvbW_SlZ_R"
      },
      "execution_count": null,
      "outputs": []
    },
    {
      "cell_type": "code",
      "source": [
        "file_path = '/content/Hotel Bookings.csv'\n",
        "HB = pd.read_csv(file_path)"
      ],
      "metadata": {
        "id": "cV3C2gcTV1BI"
      },
      "execution_count": null,
      "outputs": []
    },
    {
      "cell_type": "markdown",
      "source": [
        "### Dataset First View"
      ],
      "metadata": {
        "id": "x71ZqKXriCWQ"
      }
    },
    {
      "cell_type": "code",
      "source": [
        "HB.T                #checking the data using .T"
      ],
      "metadata": {
        "id": "LWNFOSvLl09H"
      },
      "execution_count": null,
      "outputs": []
    },
    {
      "cell_type": "markdown",
      "source": [
        "### Dataset Rows & Columns count"
      ],
      "metadata": {
        "id": "7hBIi_osiCS2"
      }
    },
    {
      "cell_type": "code",
      "source": [
        "HB.shape                    # Used .shape code to find the total number of rows and columns"
      ],
      "metadata": {
        "id": "Kllu7SJgmLij"
      },
      "execution_count": null,
      "outputs": []
    },
    {
      "cell_type": "code",
      "source": [
        "HB.head(5)                                 # Using .head(4) to find top 5 rows"
      ],
      "metadata": {
        "id": "KKQ4Q0C0vFnj"
      },
      "execution_count": null,
      "outputs": []
    },
    {
      "cell_type": "code",
      "source": [
        "HB.tail(5)                            ## Used .tail(5) code to find below 4 rows"
      ],
      "metadata": {
        "id": "e9hRXRi6meOf"
      },
      "execution_count": null,
      "outputs": []
    },
    {
      "cell_type": "markdown",
      "source": [
        "#### Missing Values/Null Values"
      ],
      "metadata": {
        "id": "PoPl-ycgm1ru"
      }
    },
    {
      "cell_type": "code",
      "source": [
        "HB.info()                                        #Extracting the data type non-null entries using .info"
      ],
      "metadata": {
        "id": "GgHWkxvamxVg"
      },
      "execution_count": null,
      "outputs": []
    },
    {
      "cell_type": "code",
      "source": [
        "\"\"\"Looking for min, max, mean, std values using .describe()\n",
        "NaN values for mean, unique, max, 25percentile, 50percentile & 75percentile indicates that those are categorical ones\"\"\"\n",
        "HB.describe(include='all').T"
      ],
      "metadata": {
        "id": "3q5wnI3om9sJ"
      },
      "execution_count": null,
      "outputs": []
    },
    {
      "cell_type": "markdown",
      "source": [
        "### What did you know about your dataset?"
      ],
      "metadata": {
        "id": "H0kj-8xxnORC"
      }
    },
    {
      "cell_type": "markdown",
      "source": [
        "Answer Here"
      ],
      "metadata": {
        "id": "gfoNAAC-nUe_"
      }
    },
    {
      "cell_type": "markdown",
      "source": [
        "## ***2. Understanding Your Variables***\n",
        "\n",
        "1 - **hotel:** Name of Resort Hotel\n",
        "\n",
        "2 - **is_canceled**: Whether the booking is canceled or not (0 for no canceled and 1 for canceled)\n",
        "\n",
        "3 - **lead_time**: time (in days) between booking transaction and actual arrival.\n",
        "\n",
        "4 - **arrival_date_year**: Year of arrival\n",
        "\n",
        "5 - **arrival_date_month**: month of arrival\n",
        "\n",
        "6 - **arrival_date_week_number**: week number of arrival date.\n",
        "\n",
        "7 - **arrival_date_day_of_month**: Day of month of arrival date\n",
        "\n",
        "8 - **stays_in_weekend_nights**: Number of weekend nights spent in a hotel\n",
        "\n",
        "9 - **stays_in_week_nights**: Number of weeknights spent in a hotel\n",
        "\n",
        "10- **adults**: Number of adults in single booking data.\n",
        "\n",
        "11- **children**: Number of children in single booking data.\n",
        "\n",
        "12- **babies**: Number of babies in single booking data. \n",
        "\n",
        "13- **meal**: Type of meal chosen \n",
        "\n",
        "14- **country**: Country of origin of customers\n",
        "\n",
        "15- **market_segment**: What segment via booking was made and for what purpose.\n",
        "\n",
        "16- **distribution_channel**: Through which medium booking was made.\n",
        "\n",
        "17- **is_repeated_guest**: Whether the customer has made any booking before(0 for No and 1 for Yes)\n",
        "\n",
        "18- **previous_cancellations**: Number of previous canceled bookings.\n",
        "\n",
        "19- **previous_bookings_not_canceled**: Number of previous non-canceled bookings.\n",
        "\n",
        "20- **reserved_room_type**: Room type reserved by a customer.\n",
        "\n",
        "21- **assigned_room_type**: Room type assigned to a customer.\n",
        "\n",
        "22- **booking_changes**: Number of booking changes done by customer.\n",
        "\n",
        "23- **deposit_type**: Type of deposit at the time of making a booking (No deposit/ Refundable/ No refund)\n",
        "\n",
        "24- **agent**: Id of agent for booking\n",
        "\n",
        "25- **company**: Id of the company making a booking\n",
        "\n",
        "26- **days_in_waiting_list**: Number of days on waiting list.\n",
        "\n",
        "27- **customer_type**: Type of customer(Transient, Group, etc.)\n",
        "\n",
        "28- **adr**: Average Daily rate.\n",
        "\n",
        "29- **required_car_parking_spaces**: Number of customers asked for car parking in booking\n",
        "\n",
        "30- **total_of_special_requests**: Total number of special request.\n",
        "\n",
        "31- **reservation_status**: Whether a customer has checked out or canceled,or not showed \n",
        "\n",
        "\t\t\t\tCanceled – booking was canceled by the customer\n",
        "\t\t\t\tCheck-Out – customer has checked-in and checked-out \n",
        "\t\t\t\tNo-Show – customer did not check-in and did inform the hotel any reason\n",
        "\n",
        "32- **reservation_status_date**: Date of making reservation status.\n",
        "\n",
        "\n"
      ],
      "metadata": {
        "id": "nA9Y7ga8ng1Z"
      }
    },
    {
      "cell_type": "markdown",
      "source": [
        "### Variables Description "
      ],
      "metadata": {
        "id": "PBTbrJXOngz2"
      }
    },
    {
      "cell_type": "markdown",
      "source": [
        "Answer Here"
      ],
      "metadata": {
        "id": "aJV4KIxSnxay"
      }
    },
    {
      "cell_type": "markdown",
      "source": [
        "### Check Unique Values for each variable.\n",
        "\n",
        "Using .unique(), we will see the unique values attained by each column."
      ],
      "metadata": {
        "id": "u3PMJOP6ngxN"
      }
    },
    {
      "cell_type": "code",
      "source": [
        "HB['hotel'].unique()"
      ],
      "metadata": {
        "id": "zms12Yq5n-jE"
      },
      "execution_count": null,
      "outputs": []
    },
    {
      "cell_type": "code",
      "source": [
        "HB['is_canceled'].unique()"
      ],
      "metadata": {
        "id": "DpL94I6xZYTr"
      },
      "execution_count": null,
      "outputs": []
    },
    {
      "cell_type": "code",
      "source": [
        "HB['adr'].unique()"
      ],
      "metadata": {
        "id": "hkQqE0lUZd8d"
      },
      "execution_count": null,
      "outputs": []
    },
    {
      "cell_type": "code",
      "source": [
        "HB['adults'].unique()"
      ],
      "metadata": {
        "id": "t_eVzQ-gZlHp"
      },
      "execution_count": null,
      "outputs": []
    },
    {
      "cell_type": "code",
      "source": [
        "HB['babies'].unique()"
      ],
      "metadata": {
        "id": "6jcKyh0oZoir"
      },
      "execution_count": null,
      "outputs": []
    },
    {
      "cell_type": "code",
      "source": [
        "HB['children'].unique()"
      ],
      "metadata": {
        "id": "1yfzoJqhZsx0"
      },
      "execution_count": null,
      "outputs": []
    },
    {
      "cell_type": "code",
      "source": [
        "HB['agent'].unique()"
      ],
      "metadata": {
        "id": "ZobSY0cXZubQ"
      },
      "execution_count": null,
      "outputs": []
    },
    {
      "cell_type": "code",
      "source": [
        "HB['arrival_date_day_of_month'].unique()"
      ],
      "metadata": {
        "id": "yPjxVFfEZ1he"
      },
      "execution_count": null,
      "outputs": []
    },
    {
      "cell_type": "code",
      "source": [
        "HB['assigned_room_type'].unique()"
      ],
      "metadata": {
        "id": "zEZir_aBZ4_f"
      },
      "execution_count": null,
      "outputs": []
    },
    {
      "cell_type": "code",
      "source": [
        "HB['market_segment'].unique()"
      ],
      "metadata": {
        "id": "Pb_0xN32aDgZ"
      },
      "execution_count": null,
      "outputs": []
    },
    {
      "cell_type": "code",
      "source": [
        "HB['distribution_channel'].unique()"
      ],
      "metadata": {
        "id": "KdmVkKTIaIUm"
      },
      "execution_count": null,
      "outputs": []
    },
    {
      "cell_type": "code",
      "source": [
        "HB['meal'].unique()"
      ],
      "metadata": {
        "id": "yNweRp89aNL3"
      },
      "execution_count": null,
      "outputs": []
    },
    {
      "cell_type": "code",
      "source": [
        "##Creating a copy of the data\n",
        "hb = HB.copy()"
      ],
      "metadata": {
        "id": "F1x4D7OLf5WJ"
      },
      "execution_count": null,
      "outputs": []
    },
    {
      "cell_type": "markdown",
      "source": [
        "### **Cleaning Data**\n",
        "\n",
        "\n",
        "\n",
        "*   Cleaning data is the crucial step before performing EDA as it will remove the ambigous & irrelevant observation data that can affect the outcome of EDA.\n",
        "\n",
        "\n",
        "*   While cleaning data we will perform following steps:\n",
        "\n",
        "  * Remove duplicate rows.\n",
        "  * Handling missing values.\n",
        "  * Convert columns to appropriate datatypes.\n",
        "  * Adding important columns."
      ],
      "metadata": {
        "id": "-fWzk3tHe41I"
      }
    },
    {
      "cell_type": "code",
      "source": [
        "##checking for duplicate rows \n",
        "hb.duplicated().value_counts()\n",
        "## Total number of duplicate rows are: 5932\n",
        "plt.figure(figsize=(5,5))\n",
        "sns.countplot(x=hb.duplicated())"
      ],
      "metadata": {
        "id": "1A4tH6WgfNZa"
      },
      "execution_count": null,
      "outputs": []
    },
    {
      "cell_type": "code",
      "source": [
        "##checking for any irrevelant data\n",
        "hb.duplicated().value_counts()"
      ],
      "metadata": {
        "id": "h87dNemkgwQ2"
      },
      "execution_count": null,
      "outputs": []
    },
    {
      "cell_type": "code",
      "source": [
        "## Now we need to drop/remove those duplicate rows\n",
        "hb = hb.drop_duplicates()"
      ],
      "metadata": {
        "id": "3CzOIFxvg5o_"
      },
      "execution_count": null,
      "outputs": []
    },
    {
      "cell_type": "code",
      "source": [
        "hb.shape"
      ],
      "metadata": {
        "id": "Z-dt0U3xg-7X"
      },
      "execution_count": null,
      "outputs": []
    },
    {
      "cell_type": "code",
      "source": [
        "## Checking for any Null values\n",
        "hb.isnull().sum().sort_values(ascending = False)[0:5]"
      ],
      "metadata": {
        "id": "OdVLCkOphFCD"
      },
      "execution_count": null,
      "outputs": []
    },
    {
      "cell_type": "markdown",
      "source": [
        "##Handling of missing values##\n",
        "Company and agent has their own Data, sometimes customer didn't booked hotel through any company or agent. so, in that case value can be replaced by 0."
      ],
      "metadata": {
        "id": "atFpjmCFHoXJ"
      }
    },
    {
      "cell_type": "code",
      "source": [
        "#Checking for the Null values using .isnull()\n",
        "hb.isnull().sum().sort_values(ascending = False).head(6)"
      ],
      "metadata": {
        "id": "8S_LeyV2IGgG"
      },
      "execution_count": null,
      "outputs": []
    },
    {
      "cell_type": "code",
      "source": [
        "# We've replaced Null values in company & agent to 0.\n",
        "hb[['company', 'agent']] = hb[['company', 'agent']].fillna(0)"
      ],
      "metadata": {
        "id": "DRFlTHXPJfiS"
      },
      "execution_count": null,
      "outputs": []
    },
    {
      "cell_type": "code",
      "source": [
        "\"\"\"In the column children we found value 0, which means there're no children were present in the group of customers.\n",
        "\"\"\"\n",
        "## We've replaced the Null values in children column with mean().\n",
        "hb['children'].fillna(hb['children'].mean(), inplace= True)"
      ],
      "metadata": {
        "id": "OpzFH6esJkDx"
      },
      "execution_count": null,
      "outputs": []
    },
    {
      "cell_type": "code",
      "source": [
        "\"\"\"Missing values in country column is replaced by others\n",
        "\"\"\"\n",
        "hb['country'].fillna('others', inplace= True)"
      ],
      "metadata": {
        "id": "1kEcPbMwJnUv"
      },
      "execution_count": null,
      "outputs": []
    },
    {
      "cell_type": "code",
      "source": [
        "hb.isnull().sum().sort_values(ascending = False).head(8)"
      ],
      "metadata": {
        "id": "4ikRETcOJrCM"
      },
      "execution_count": null,
      "outputs": []
    },
    {
      "cell_type": "code",
      "source": [
        "### There are some rows of children, babies & adults with value 0\n",
        "hb[hb['children']+hb['babies']+hb['adults'] == 0].shape"
      ],
      "metadata": {
        "id": "g5R5scoBNz3G"
      },
      "execution_count": null,
      "outputs": []
    },
    {
      "cell_type": "code",
      "source": [
        "### As we noticed value 0 for children, babies & adults we've removed 0 values using .drop()\n",
        "hb.drop(hb[hb['children']+hb['babies']+hb['adults'] == 0].index, inplace= True)"
      ],
      "metadata": {
        "id": "7dW51jJZN4KV"
      },
      "execution_count": null,
      "outputs": []
    },
    {
      "cell_type": "markdown",
      "source": [
        "### Converting DataTypes of columns"
      ],
      "metadata": {
        "id": "MGrmT0kaOIMG"
      }
    },
    {
      "cell_type": "code",
      "source": [
        "\"\"\" We're converting DataTypes of children, company & agent from float to int, because those can't be in float values.\n",
        "\"\"\"\n",
        "hb[['children', 'company', 'agent']] = hb[['children', 'company', 'agent']].astype('int64')"
      ],
      "metadata": {
        "id": "ju0lsQa2ON5X"
      },
      "execution_count": null,
      "outputs": []
    },
    {
      "cell_type": "code",
      "source": [
        "hb.T"
      ],
      "metadata": {
        "id": "9eJH2WMjOP5D"
      },
      "execution_count": null,
      "outputs": []
    },
    {
      "cell_type": "code",
      "source": [
        "hb['reservation_status_date'] = pd.to_datetime(hb['reservation_status_date'], format = '%Y-%m-%d')"
      ],
      "metadata": {
        "id": "NRp60Rd_OZ_g"
      },
      "execution_count": null,
      "outputs": []
    },
    {
      "cell_type": "code",
      "source": [
        "hb.T"
      ],
      "metadata": {
        "id": "613IEtAlOdC3"
      },
      "execution_count": null,
      "outputs": []
    },
    {
      "cell_type": "code",
      "source": [
        "\"\"\"Creating the new columns so that we can analyse the stay length at respective hotel\"\"\"\n",
        "## Additng total_stays of customers in hotel\n",
        "hb['total_stay'] = hb['stays_in_week_nights'] + hb['stays_in_weekend_nights']\n",
        "\n",
        "## Adding total_people column from combining children, babies & adults\n",
        "hb['total_people'] = hb['children'] + hb['babies'] + hb['adults']"
      ],
      "metadata": {
        "id": "YLW-XSKqOpRF"
      },
      "execution_count": null,
      "outputs": []
    },
    {
      "cell_type": "code",
      "source": [
        "\"\"\"Now we can see that total_people & total_stay has been added\"\"\"\n",
        "hb.T"
      ],
      "metadata": {
        "id": "xoZvaPMqiUda"
      },
      "execution_count": null,
      "outputs": []
    },
    {
      "cell_type": "markdown",
      "source": [
        "# **EDA (Exploratory Data Analysis)**\n",
        "* We have categorised EDA into three different analysis\n",
        "    * Univariate \n",
        "    * Bivariate \n",
        "    * Multivariate"
      ],
      "metadata": {
        "id": "ZlF-9t4uioEA"
      }
    },
    {
      "cell_type": "markdown",
      "source": [
        "# **Univariate Analysis**"
      ],
      "metadata": {
        "id": "VjC7XWt_i1dw"
      }
    },
    {
      "cell_type": "markdown",
      "source": [
        "# **Highest Bookings made by the agent.**"
      ],
      "metadata": {
        "id": "iAVdZyCIwSqz"
      }
    },
    {
      "cell_type": "code",
      "source": [
        "highest_agent_bookings = hb.groupby(['agent'])['agent'].agg({'count'}).reset_index().rename(columns={'count': \"Most_Bookings\" }).sort_values(by='Most_Bookings',ascending=False)\n",
        "#print(highest_agent_bookings)\n",
        "##Droping the 0 agent values\n",
        "highest_agent_bookings.drop(highest_agent_bookings[highest_agent_bookings['agent']==0].index,inplace=True)\n",
        "print(highest_agent_bookings[:6])\n",
        "top_ten_highest_bookings = highest_agent_bookings[:15]\n",
        "\n",
        "### visualizing the graph\n",
        "plt.figure(figsize=(15,10))\n",
        "sns.barplot(x= top_ten_highest_bookings['agent'], y= top_ten_highest_bookings['Most_Bookings'], order = top_ten_highest_bookings['agent'])\n",
        "plt.xlabel('Agent number')\n",
        "plt.ylabel('Number of bookings')\n",
        "plt.title('Most bookings made by the Agent')\n"
      ],
      "metadata": {
        "id": "pfe1R6fd-kw_"
      },
      "execution_count": null,
      "outputs": []
    },
    {
      "cell_type": "markdown",
      "source": [
        "**From the above pictorial representation, we can see that Agent number 9 has made highest number of bookings.**"
      ],
      "metadata": {
        "id": "Y3XfVesPxx_6"
      }
    },
    {
      "cell_type": "markdown",
      "source": [
        "#**Hotel making more revenue.** "
      ],
      "metadata": {
        "id": "b7WzIa2MyVNO"
      }
    },
    {
      "cell_type": "code",
      "source": [
        "grouped_by_hotel = hb.groupby('hotel')\n",
        "hb1 = grouped_by_hotel['adr'].agg(np.mean).reset_index().rename(columns = {'adr':'avg_adr'})  \n",
        "plt.figure(figsize = (8,5))\n",
        "sns.barplot(x = hb1['hotel'], y = hb1['avg_adr'] )\n",
        "plt.show()\n"
      ],
      "metadata": {
        "id": "bW-akQ5K99YY"
      },
      "execution_count": null,
      "outputs": []
    },
    {
      "cell_type": "markdown",
      "source": [
        "**From the above bar graph, we see that Avg adr of City hotel is Higher than that of Resort hotel. Hence, City hotel seems to be making more revenue.**"
      ],
      "metadata": {
        "id": "dnijmOFOzJN2"
      }
    },
    {
      "cell_type": "markdown",
      "source": [
        "#**Percentage of repeated guests**"
      ],
      "metadata": {
        "id": "1UlQzgwcG7g7"
      }
    },
    {
      "cell_type": "code",
      "source": [
        "hb['is_repeated_guest'].value_counts().plot.pie(explode=[0.05, 0.05], autopct= '%1.1f%%', shadow= True, figsize=(5,5), fontsize=20)\n",
        "plt.title('Percentage of repeated guests')"
      ],
      "metadata": {
        "id": "XOfdeIN4_Y1n"
      },
      "execution_count": null,
      "outputs": []
    },
    {
      "cell_type": "markdown",
      "source": [
        "**We can see that only 3.9% are the repeated guests**"
      ],
      "metadata": {
        "id": "fbVVBMwBHwUL"
      }
    },
    {
      "cell_type": "markdown",
      "source": [
        "#**Percentage distribution of required_car_parking_spaces**"
      ],
      "metadata": {
        "id": "IHkGqwYwIQKW"
      }
    },
    {
      "cell_type": "code",
      "source": [
        "hb['required_car_parking_spaces'].value_counts().plot.pie(explode=[0.05]*5, shadow= False, autopct= '%1.1ff%%', figsize=(15,8), fontsize=10, labels= None)\n",
        "labels = hb['required_car_parking_spaces'].value_counts().index\n",
        "plt.title('Percentage of car parking space')\n",
        "plt.legend(bbox_to_anchor = (0.85, 1), loc = 'upper left', labels=labels)"
      ],
      "metadata": {
        "id": "hRB8Aq1FQk9F"
      },
      "execution_count": null,
      "outputs": []
    },
    {
      "cell_type": "markdown",
      "source": [
        "**We see that, 91.6% of customers didn't required car parking space and only 8.3% customers required car parking space**"
      ],
      "metadata": {
        "id": "8CzhWbhBIqIu"
      }
    },
    {
      "cell_type": "markdown",
      "source": [
        "#**Percentage distribution of Deposit type**"
      ],
      "metadata": {
        "id": "yh4D0ts8JWgF"
      }
    },
    {
      "cell_type": "code",
      "source": [
        "hb['deposit_type'].value_counts().plot.pie(explode = [0.05]*3, autopct= '%1.1f%%', shadow= True, figsize=(10,5), fontsize=(20), labels= None)\n",
        "plt.title('Distribution of deposite types')\n",
        "labels= hb['deposit_type'].value_counts().index.tolist()\n",
        "plt.legend(bbox_to_anchor= (0.85, 1), loc= 'upper left', labels= labels)"
      ],
      "metadata": {
        "id": "gMMoTlOQQwaK"
      },
      "execution_count": null,
      "outputs": []
    },
    {
      "cell_type": "markdown",
      "source": [
        "**From the above pie chart, we get to know that 98.7% of the guests prefer \"No deposit\" type of deposit.**"
      ],
      "metadata": {
        "id": "lmWMezpgJwzL"
      }
    },
    {
      "cell_type": "markdown",
      "source": [
        "#**Year had the highest number of bookings**"
      ],
      "metadata": {
        "id": "4i1D5bonJ5Yp"
      }
    },
    {
      "cell_type": "code",
      "source": [
        "plt.figure(figsize=(8,6))\n",
        "sns.countplot(x= hb['arrival_date_year'], hue=hb['hotel'])\n",
        "plt.title('Yearly bookings')"
      ],
      "metadata": {
        "id": "Qmx8KBG3Q_1a"
      },
      "execution_count": null,
      "outputs": []
    },
    {
      "cell_type": "markdown",
      "source": [
        "**From the above countplot we can get see that**\n",
        " \n",
        "      1) --> 2016 had the higest bookings.\n",
        "\n",
        "      2) --> 2015 had less around 7000 bookings.\n",
        "\n",
        "      3) --> Overall City hotels had the most number of bookings. "
      ],
      "metadata": {
        "id": "UisYisnzKTh2"
      }
    },
    {
      "cell_type": "markdown",
      "source": [
        "#**Channel has longer average waiting time**"
      ],
      "metadata": {
        "id": "gXieS7UnLBpd"
      }
    },
    {
      "cell_type": "code",
      "source": [
        "group_by_hotel = hb.groupby('distribution_channel')\n",
        "avg_wait_time = pd.DataFrame(round((group_by_hotel['days_in_waiting_list']).mean(), 2)).reset_index().rename(columns= {'days_in_waiting_list': 'avg_waiting_time'})\n",
        "plt.figure(figsize=(10, 8))\n",
        "sns.barplot(x= avg_wait_time['distribution_channel'], y= avg_wait_time['avg_waiting_time'])\n",
        "plt.show()"
      ],
      "metadata": {
        "id": "zqTN6fxCToLe"
      },
      "execution_count": null,
      "outputs": []
    },
    {
      "cell_type": "markdown",
      "source": [
        "**From the above barplot, we get to know that TA/TO is mostly used for planning Hotel visits ahead of time.**"
      ],
      "metadata": {
        "id": "vwEqnsEtLapj"
      }
    },
    {
      "cell_type": "markdown",
      "source": [
        "#**Number of travellers in various months**"
      ],
      "metadata": {
        "id": "DhWk6Jk-LklW"
      }
    },
    {
      "cell_type": "code",
      "source": [
        "arrival_month = hb.arrival_date_month.value_counts()"
      ],
      "metadata": {
        "id": "qagdkVo-Purh"
      },
      "execution_count": null,
      "outputs": []
    },
    {
      "cell_type": "code",
      "source": [
        "plt.barh(arrival_month.index,arrival_month.values)"
      ],
      "metadata": {
        "id": "czRZhnBnPzL7"
      },
      "execution_count": null,
      "outputs": []
    },
    {
      "cell_type": "markdown",
      "source": [
        "**So, we can say the peak months are : August, July, May(Summer Time).**"
      ],
      "metadata": {
        "id": "2A-OKlQFRtkQ"
      }
    },
    {
      "cell_type": "markdown",
      "source": [
        "#**Resevation Status**"
      ],
      "metadata": {
        "id": "21PyjpRxTTQi"
      }
    },
    {
      "cell_type": "code",
      "source": [
        "hb.reservation_status.value_counts(normalize=True)\n",
        "sns.countplot(x=hb['reservation_status'],palette='husl')"
      ],
      "metadata": {
        "id": "UDp77kJwTU36"
      },
      "execution_count": null,
      "outputs": []
    },
    {
      "cell_type": "markdown",
      "source": [
        "**We can see that, most of the people are actually making genuine reservations and only few are cancelling their reservations.**"
      ],
      "metadata": {
        "id": "HkRywoZ_MULB"
      }
    },
    {
      "cell_type": "markdown",
      "source": [
        "#**AVERAGE STAY WEEKENDS VS WEEKDAYS**\n",
        "\n"
      ],
      "metadata": {
        "id": "jqOgskB2VLn9"
      }
    },
    {
      "cell_type": "markdown",
      "source": [
        "**AVERAGE STAY WEEKENDS**"
      ],
      "metadata": {
        "id": "WST_H0szNN10"
      }
    },
    {
      "cell_type": "code",
      "source": [
        "hb.stays_in_weekend_nights.value_counts(normalize=True)\n",
        "sns.countplot(x=hb['stays_in_weekend_nights'],palette='husl')\n",
        "print(hb.stays_in_weekend_nights.mean()/2)"
      ],
      "metadata": {
        "id": "j5PfpvlSVOvY"
      },
      "execution_count": null,
      "outputs": []
    },
    {
      "cell_type": "markdown",
      "source": [
        "**AVERAGE STAY WEEKDAYS**"
      ],
      "metadata": {
        "id": "TuHuGTMYVkHn"
      }
    },
    {
      "cell_type": "code",
      "source": [
        "hb.stays_in_week_nights.value_counts(normalize=True)\n",
        "sns.countplot(x=hb['stays_in_week_nights'],palette='husl')\n",
        "print(hb.stays_in_week_nights.mean()/5)"
      ],
      "metadata": {
        "id": "6jZambEqVb9m"
      },
      "execution_count": null,
      "outputs": []
    },
    {
      "cell_type": "markdown",
      "source": [
        "**We see that, people generally prefer long stays on weekdays rather than weekends**"
      ],
      "metadata": {
        "id": "Xp6_cJXvNHpX"
      }
    },
    {
      "cell_type": "markdown",
      "source": [
        "#**Room Types**"
      ],
      "metadata": {
        "id": "IXyVrqFnV5AY"
      }
    },
    {
      "cell_type": "code",
      "source": [
        "actual_single = len(hb[hb['adults']==1])                           #There are around 16,503 rooms booked as single room\n",
        "actual_single"
      ],
      "metadata": {
        "id": "H6o7GlcmWqLz"
      },
      "execution_count": null,
      "outputs": []
    },
    {
      "cell_type": "code",
      "source": [
        "actual_couple  = len(hb[hb['adults']==2])                         #There are around 64,497 rooms booked as couples room\n",
        "actual_couple"
      ],
      "metadata": {
        "id": "BjhbEWzyW-Yk"
      },
      "execution_count": null,
      "outputs": []
    },
    {
      "cell_type": "code",
      "source": [
        "actual_family = len(hb) - actual_couple - actual_single           #There around 6,230 rooms booked as family room\n",
        "actual_family"
      ],
      "metadata": {
        "id": "Q-Ui8rccXIYl"
      },
      "execution_count": null,
      "outputs": []
    },
    {
      "cell_type": "code",
      "source": [
        "rooms = ['single','couple','family']                              \n",
        "room_count = [actual_single,actual_couple,actual_family]\n",
        "plt.bar(rooms,room_count)"
      ],
      "metadata": {
        "id": "sGmqJPwXV8L_"
      },
      "execution_count": null,
      "outputs": []
    },
    {
      "cell_type": "markdown",
      "source": [
        "**Here, clearly we see that majority of the rooms booked are couple rooms**"
      ],
      "metadata": {
        "id": "PIbztdEoXpqW"
      }
    },
    {
      "cell_type": "markdown",
      "source": [
        "#**Online Booking vs Offline Booking(Travel Agency,Direct)**"
      ],
      "metadata": {
        "id": "3sOyAOPcXrKd"
      }
    },
    {
      "cell_type": "code",
      "source": [
        "modes = hb.market_segment.value_counts()\n",
        "modes"
      ],
      "metadata": {
        "id": "1AZEArMvb3-S"
      },
      "execution_count": null,
      "outputs": []
    },
    {
      "cell_type": "code",
      "source": [
        "onlineTa = hb[hb.market_segment=='Online TA']\n",
        "mode = [\"Online Booking\", \"Offline Booking\"]\n",
        "mode_count = [modes[\"Online TA\"],modes[\"Offline TA/TO\"]+modes[\"Direct\"]]\n",
        "plt.bar(mode,mode_count)"
      ],
      "metadata": {
        "id": "YZAxenx4b9Hy"
      },
      "execution_count": null,
      "outputs": []
    },
    {
      "cell_type": "markdown",
      "source": [
        "**So, Majority of the customers prefer online booking rather than offline booking.**"
      ],
      "metadata": {
        "id": "JsRguJwpcDga"
      }
    },
    {
      "cell_type": "markdown",
      "source": [
        "#**Satisfaction of customers**"
      ],
      "metadata": {
        "id": "LbtiigARdJyv"
      }
    },
    {
      "cell_type": "code",
      "source": [
        "reserv = hb.reserved_room_type.value_counts()\n",
        "assign = hb.assigned_room_type.value_counts()\n",
        "plt.bar(assign.index,assign.values,label=\"Assigned room type\")\n",
        "plt.bar(reserv.index,reserv.values,label=\"Reserved room type\")\n",
        "plt.legend()"
      ],
      "metadata": {
        "id": "TzH99brRdEeg"
      },
      "execution_count": null,
      "outputs": []
    },
    {
      "cell_type": "code",
      "source": [
        "def fun(x,y):\n",
        "    if x==y:\n",
        "        return True\n",
        "    else:\n",
        "        return False\n",
        "hb[\"prefer\"] = hb.apply(lambda x: fun(x.reserved_room_type,x.assigned_room_type),axis=1)\n",
        "sat_count = hb[\"prefer\"].value_counts()\n",
        "model = [\"Satisfied\",\"Change of Room\"]\n",
        "data_sat = [sat_count[True],sat_count[False]]\n",
        "plt.bar(model,data_sat,color = ['blue','orange'])"
      ],
      "metadata": {
        "id": "QINWlU4cfYx2"
      },
      "execution_count": null,
      "outputs": []
    },
    {
      "cell_type": "markdown",
      "source": [
        "**So, Majority of the customers has got the room type they have booked.**"
      ],
      "metadata": {
        "id": "dFnOMmsmfj8e"
      }
    },
    {
      "cell_type": "markdown",
      "source": [
        "#**Bivariate Analysis**"
      ],
      "metadata": {
        "id": "GBFH-ZM7YC0P"
      }
    },
    {
      "cell_type": "markdown",
      "source": [
        "#**Hotel type having the more lead time**"
      ],
      "metadata": {
        "id": "5g3MzUbSPpNO"
      }
    },
    {
      "cell_type": "code",
      "source": [
        "avg_lead_time = grouped_by_hotel['lead_time'].mean().reset_index()\n",
        "plt.figure(figsize=(8,5))\n",
        "sns.barplot(x= avg_lead_time['hotel'], y= avg_lead_time['lead_time'])\n",
        "plt.xlabel('Hotel type')\n",
        "plt.ylabel('Avg Lead Time')\n",
        "plt.title('Avg Lead time of each Hotel')"
      ],
      "metadata": {
        "id": "kMRva4LnYA6H"
      },
      "execution_count": null,
      "outputs": []
    },
    {
      "cell_type": "markdown",
      "source": [
        "**From above bargraph, we can see that Resort hotels have slightly high avg lead time.**"
      ],
      "metadata": {
        "id": "CRHkDYbjQFNW"
      }
    },
    {
      "cell_type": "markdown",
      "source": [
        "#**Hotel having highest percentage of booking cancellation**"
      ],
      "metadata": {
        "id": "ta2b1bxJQrtF"
      }
    },
    {
      "cell_type": "code",
      "source": [
        "# creating new DataFrame where bookings are cancelled.\n",
        "cancelled_bookings =hb[hb['is_canceled']==1]\n",
        "# Grouping by hotel\n",
        "cancelled_bookings = cancelled_bookings.groupby('hotel').size().reset_index().rename(columns={0:'no._of_cancelled_bookings'})\n",
        "# adding total booking column for calculating the percentage.\n",
        "cancelled_bookings['total_bookings']=hb.groupby('hotel').size().reset_index().rename(columns={0:\"total_bookings\"}).drop('hotel',axis=1)\n",
        "\n",
        "plt.figure(figsize=(8,6))\n",
        "sns.barplot(x= cancelled_bookings['hotel'], y= cancelled_bookings['no._of_cancelled_bookings']*100/ cancelled_bookings['total_bookings'])\n",
        "plt.xlabel('Hotel Type')\n",
        "plt.ylabel('Percentage of cancellation')\n",
        "plt.title('Booking Cancellation')"
      ],
      "metadata": {
        "id": "VOvx7md1YR6U"
      },
      "execution_count": null,
      "outputs": []
    },
    {
      "cell_type": "markdown",
      "source": [
        "**From above, we can see that City Hotel has the highest booking cancellation percentage**"
      ],
      "metadata": {
        "id": "ZKEjDjqTRAGN"
      }
    },
    {
      "cell_type": "markdown",
      "source": [
        "#**Distribution channel contributed more to adr in order to increase the income**"
      ],
      "metadata": {
        "id": "38PC1ERgRYUm"
      }
    },
    {
      "cell_type": "code",
      "source": [
        "# group by distribution channel and hotel\n",
        "distribution_channel_hb = hb.groupby(['distribution_channel','hotel'])['adr'].mean().reset_index()\n",
        "\n",
        "plt.figure(figsize=(12,8))\n",
        "sns.barplot(x='distribution_channel', y='adr', data=distribution_channel_hb, hue='hotel')\n",
        "plt.title('ADR across Distribution channel')"
      ],
      "metadata": {
        "id": "QlzctB-AYb-h"
      },
      "execution_count": null,
      "outputs": []
    },
    {
      "cell_type": "markdown",
      "source": [
        "Corporate - These are corporate hotel booking companies which makes bookings possible like OYO.\n",
        "\n",
        "GDS - GDS is a worldwide liaison between travel bookers and suppliers, such as hotels and other accommodation providers.\n",
        "\n",
        "Direct- Bookings are directly made with the respective hotels.\n",
        "\n",
        "TA/TO - Bookings made through travel agents or travel operators.\n",
        "\n",
        "Undefined - Bookings are undefined. may be customers made their bookings on arrival. "
      ],
      "metadata": {
        "id": "HOzX-hwLRxB3"
      }
    },
    {
      "cell_type": "markdown",
      "source": [
        "**From the above barplot it is clear that 'Direct' and 'TA/TO' has almost equally contributed in adr in both type of hotels i.e. 'City Hotel' and 'Resort Hotel'.**\n",
        "\n",
        "\n",
        "**GDS has highly contributed in adr in 'City Hotel' type only & it needs to increase Resort Hotel bookings.**"
      ],
      "metadata": {
        "id": "s9ZWqy2e99xS"
      }
    },
    {
      "cell_type": "markdown",
      "source": [
        "#**Distribution channel having the highest cancellation rate**"
      ],
      "metadata": {
        "id": "DYSqi0pY-tm0"
      }
    },
    {
      "cell_type": "code",
      "source": [
        "cancellation_rate =hb[hb['is_canceled']==1] # 1= canceled\n",
        "#group by distribution channel\n",
        "cancellation_rate =cancellation_rate.groupby(['distribution_channel','hotel']).size().reset_index().rename(columns={0:'Counts'})\n",
        "plt.figure(figsize=(8,6))\n",
        "sns.barplot(x='distribution_channel',y='Counts',hue=\"hotel\",data=cancellation_rate)\n",
        "plt.xlabel('Distribution channel')\n",
        "plt.ylabel('counts')\n",
        "plt.title('Cancellation Count Vs Distribution channel')"
      ],
      "metadata": {
        "id": "9o8Zh2arY3_o"
      },
      "execution_count": null,
      "outputs": []
    },
    {
      "cell_type": "markdown",
      "source": [
        "**From the above barplot we can see that TA/TO, City hotels has the high cancellation rate compared to resort**"
      ],
      "metadata": {
        "id": "Famukm_O_BmH"
      }
    },
    {
      "cell_type": "markdown",
      "source": [
        "#**Multivariate Analysis**"
      ],
      "metadata": {
        "id": "RX0K6cmuY93Z"
      }
    },
    {
      "cell_type": "markdown",
      "source": [
        "#**ADR across different market segment**"
      ],
      "metadata": {
        "id": "wJ5kp4vq_L9b"
      }
    },
    {
      "cell_type": "code",
      "source": [
        "Groupsby= hb.groupby(['market_segment','hotel','is_canceled'])['adr'].mean().reset_index()\n",
        "plt.figure(figsize=(10,8))\n",
        "sns.barplot(x='market_segment',y='adr',hue='hotel',data=Groupsby.sort_values(by='adr',ascending=False))\n",
        "plt.title('Adr across market segment')"
      ],
      "metadata": {
        "id": "7VxqQ01XZDVv"
      },
      "execution_count": null,
      "outputs": []
    },
    {
      "cell_type": "markdown",
      "source": [
        "**Direct and Online TA are contributing the most in both types of hotels.**\n",
        "\n",
        " \n",
        "**Aviation segment should focus on increasing the bookings of Resort Hotel.**"
      ],
      "metadata": {
        "id": "AyPH8VSk_YB4"
      }
    },
    {
      "cell_type": "markdown",
      "source": [
        "#**Best stay length in both types of hotels**"
      ],
      "metadata": {
        "id": "_gIUPlik_w8r"
      }
    },
    {
      "cell_type": "code",
      "source": [
        "best_stay = hb.groupby(['total_stay', 'hotel']).agg('count').reset_index() \n",
        "best_stay = best_stay.iloc[:, :5]                                                \n",
        "best_stay = best_stay.rename(columns={'is_canceled':'Number of stays'})   \n",
        "\n",
        "plt.figure(figsize=(15,8))\n",
        "sns.barplot(x='total_stay',y='Number of stays',hue='hotel',data=best_stay)\n",
        "plt.title('Optimal Stay Length in Both hotel types')\n",
        "plt.ylabel('count of stays')\n",
        "plt.xlabel('total_stay(days)')"
      ],
      "metadata": {
        "id": "Pu5Pz94bZ4gc"
      },
      "execution_count": null,
      "outputs": []
    },
    {
      "cell_type": "markdown",
      "source": [
        "**Best stay in any type of hotel is less than 7 days**"
      ],
      "metadata": {
        "id": "ddUOpaYMAShy"
      }
    },
    {
      "cell_type": "markdown",
      "source": [
        "#**Columns Co-relation**"
      ],
      "metadata": {
        "id": "5cwXE82tAXIb"
      }
    },
    {
      "cell_type": "code",
      "source": [
        "plt.figure(figsize=(15,10))\n",
        "sns.heatmap(hb.corr(), annot=True)\n",
        "plt.title('Columns Co-relation')"
      ],
      "metadata": {
        "id": "ucuZb3lJZoez"
      },
      "execution_count": null,
      "outputs": []
    },
    {
      "cell_type": "markdown",
      "source": [
        "**Total stay length and lead time have slight cooleration.This may means that for longer hotel stays people generally plan little before the actual arrival.**\n",
        "\n",
        "**adr is slightly correlated with total_people, which makes senses as more no. of people means more revenue, therefore more adr.**"
      ],
      "metadata": {
        "id": "k9PftTfVAggt"
      }
    },
    {
      "cell_type": "markdown",
      "source": [
        "#**Relation between ADR and Total Stay**"
      ],
      "metadata": {
        "id": "1adntYdiA3t4"
      }
    },
    {
      "cell_type": "code",
      "source": [
        "plt.figure(figsize=(15,5))\n",
        "sns.scatterplot(x=hb['total_stay'], y=hb['adr'])\n",
        "plt.title('Relationship between  adr and total stay')"
      ],
      "metadata": {
        "id": "Ee5Bj0zjaFBg"
      },
      "execution_count": null,
      "outputs": []
    },
    {
      "cell_type": "markdown",
      "source": [
        "**From above scatter we can see that as the stay increases adr is decreasing. Therefore for longer stays customer can get good adr.**"
      ],
      "metadata": {
        "id": "kBtJWTaqBD9G"
      }
    },
    {
      "cell_type": "markdown",
      "source": [
        "## 3. ***Data Wrangling***"
      ],
      "metadata": {
        "id": "dauF4eBmngu3"
      }
    },
    {
      "cell_type": "code",
      "source": [],
      "metadata": {
        "id": "pLH-XhVSkUa7"
      },
      "execution_count": null,
      "outputs": []
    },
    {
      "cell_type": "code",
      "source": [],
      "metadata": {
        "id": "Mz-yMkg2guyl"
      },
      "execution_count": null,
      "outputs": []
    },
    {
      "cell_type": "markdown",
      "source": [],
      "metadata": {
        "id": "BUck5Vu4e27j"
      }
    },
    {
      "cell_type": "code",
      "source": [],
      "metadata": {
        "id": "gu0Ryrt7Z8ja"
      },
      "execution_count": null,
      "outputs": []
    },
    {
      "cell_type": "markdown",
      "source": [
        "### Data Wrangling Code"
      ],
      "metadata": {
        "id": "bKJF3rekwFvQ"
      }
    },
    {
      "cell_type": "code",
      "source": [
        "# Write your code to make your dataset analysis ready."
      ],
      "metadata": {
        "id": "wk-9a2fpoLcV"
      },
      "execution_count": null,
      "outputs": []
    },
    {
      "cell_type": "markdown",
      "source": [
        "### What all manipulations have you done and insights you found?"
      ],
      "metadata": {
        "id": "MSa1f5Uengrz"
      }
    },
    {
      "cell_type": "markdown",
      "source": [
        "Answer Here."
      ],
      "metadata": {
        "id": "LbyXE7I1olp8"
      }
    },
    {
      "cell_type": "markdown",
      "source": [
        "## ***4. Data Vizualization, Storytelling & Experimenting with charts : Understand the relationships between variables***"
      ],
      "metadata": {
        "id": "GF8Ens_Soomf"
      }
    },
    {
      "cell_type": "markdown",
      "source": [
        "#### Chart - 1"
      ],
      "metadata": {
        "id": "0wOQAZs5pc--"
      }
    },
    {
      "cell_type": "code",
      "source": [
        "# Chart - 1 visualization code"
      ],
      "metadata": {
        "id": "7v_ESjsspbW7"
      },
      "execution_count": null,
      "outputs": []
    },
    {
      "cell_type": "markdown",
      "source": [
        "##### 1. Why did you pick the specific chart?"
      ],
      "metadata": {
        "id": "K5QZ13OEpz2H"
      }
    },
    {
      "cell_type": "markdown",
      "source": [
        "Answer Here."
      ],
      "metadata": {
        "id": "XESiWehPqBRc"
      }
    },
    {
      "cell_type": "markdown",
      "source": [
        "##### 2. What is/are the insight(s) found from the chart?"
      ],
      "metadata": {
        "id": "lQ7QKXXCp7Bj"
      }
    },
    {
      "cell_type": "markdown",
      "source": [
        "Answer Here"
      ],
      "metadata": {
        "id": "C_j1G7yiqdRP"
      }
    },
    {
      "cell_type": "markdown",
      "source": [
        "##### 3. Will the gained insights help creating a positive business impact? \n",
        "Are there any insights that lead to negative growth? Justify with specific reason."
      ],
      "metadata": {
        "id": "448CDAPjqfQr"
      }
    },
    {
      "cell_type": "markdown",
      "source": [
        "Answer Here"
      ],
      "metadata": {
        "id": "3cspy4FjqxJW"
      }
    },
    {
      "cell_type": "markdown",
      "source": [
        "#### Chart - 2"
      ],
      "metadata": {
        "id": "KSlN3yHqYklG"
      }
    },
    {
      "cell_type": "code",
      "source": [
        "# Chart - 2 visualization code"
      ],
      "metadata": {
        "id": "R4YgtaqtYklH"
      },
      "execution_count": null,
      "outputs": []
    },
    {
      "cell_type": "markdown",
      "source": [
        "##### 1. Why did you pick the specific chart?"
      ],
      "metadata": {
        "id": "t6dVpIINYklI"
      }
    },
    {
      "cell_type": "markdown",
      "source": [
        "Answer Here."
      ],
      "metadata": {
        "id": "5aaW0BYyYklI"
      }
    },
    {
      "cell_type": "markdown",
      "source": [
        "##### 2. What is/are the insight(s) found from the chart?"
      ],
      "metadata": {
        "id": "ijmpgYnKYklI"
      }
    },
    {
      "cell_type": "markdown",
      "source": [
        "Answer Here"
      ],
      "metadata": {
        "id": "PSx9atu2YklI"
      }
    },
    {
      "cell_type": "markdown",
      "source": [
        "##### 3. Will the gained insights help creating a positive business impact? \n",
        "Are there any insights that lead to negative growth? Justify with specific reason."
      ],
      "metadata": {
        "id": "-JiQyfWJYklI"
      }
    },
    {
      "cell_type": "markdown",
      "source": [
        "Answer Here"
      ],
      "metadata": {
        "id": "BcBbebzrYklV"
      }
    },
    {
      "cell_type": "markdown",
      "source": [
        "#### Chart - 3"
      ],
      "metadata": {
        "id": "EM7whBJCYoAo"
      }
    },
    {
      "cell_type": "code",
      "source": [
        "# Chart - 3 visualization code"
      ],
      "metadata": {
        "id": "t6GMdE67YoAp"
      },
      "execution_count": null,
      "outputs": []
    },
    {
      "cell_type": "markdown",
      "source": [
        "##### 1. Why did you pick the specific chart?"
      ],
      "metadata": {
        "id": "fge-S5ZAYoAp"
      }
    },
    {
      "cell_type": "markdown",
      "source": [
        "Answer Here."
      ],
      "metadata": {
        "id": "5dBItgRVYoAp"
      }
    },
    {
      "cell_type": "markdown",
      "source": [
        "##### 2. What is/are the insight(s) found from the chart?"
      ],
      "metadata": {
        "id": "85gYPyotYoAp"
      }
    },
    {
      "cell_type": "markdown",
      "source": [
        "Answer Here"
      ],
      "metadata": {
        "id": "4jstXR6OYoAp"
      }
    },
    {
      "cell_type": "markdown",
      "source": [
        "##### 3. Will the gained insights help creating a positive business impact? \n",
        "Are there any insights that lead to negative growth? Justify with specific reason."
      ],
      "metadata": {
        "id": "RoGjAbkUYoAp"
      }
    },
    {
      "cell_type": "markdown",
      "source": [
        "Answer Here"
      ],
      "metadata": {
        "id": "zfJ8IqMcYoAp"
      }
    },
    {
      "cell_type": "markdown",
      "source": [
        "#### Chart - 4"
      ],
      "metadata": {
        "id": "4Of9eVA-YrdM"
      }
    },
    {
      "cell_type": "code",
      "source": [
        "# Chart - 4 visualization code"
      ],
      "metadata": {
        "id": "irlUoxc8YrdO"
      },
      "execution_count": null,
      "outputs": []
    },
    {
      "cell_type": "markdown",
      "source": [
        "##### 1. Why did you pick the specific chart?"
      ],
      "metadata": {
        "id": "iky9q4vBYrdO"
      }
    },
    {
      "cell_type": "markdown",
      "source": [
        "Answer Here."
      ],
      "metadata": {
        "id": "aJRCwT6DYrdO"
      }
    },
    {
      "cell_type": "markdown",
      "source": [
        "##### 2. What is/are the insight(s) found from the chart?"
      ],
      "metadata": {
        "id": "F6T5p64dYrdO"
      }
    },
    {
      "cell_type": "markdown",
      "source": [
        "Answer Here"
      ],
      "metadata": {
        "id": "Xx8WAJvtYrdO"
      }
    },
    {
      "cell_type": "markdown",
      "source": [
        "##### 3. Will the gained insights help creating a positive business impact? \n",
        "Are there any insights that lead to negative growth? Justify with specific reason."
      ],
      "metadata": {
        "id": "y-Ehk30pYrdP"
      }
    },
    {
      "cell_type": "markdown",
      "source": [
        "Answer Here"
      ],
      "metadata": {
        "id": "jLNxxz7MYrdP"
      }
    },
    {
      "cell_type": "markdown",
      "source": [
        "#### Chart - 5"
      ],
      "metadata": {
        "id": "bamQiAODYuh1"
      }
    },
    {
      "cell_type": "code",
      "source": [
        "# Chart - 5 visualization code"
      ],
      "metadata": {
        "id": "TIJwrbroYuh3"
      },
      "execution_count": null,
      "outputs": []
    },
    {
      "cell_type": "markdown",
      "source": [
        "##### 1. Why did you pick the specific chart?"
      ],
      "metadata": {
        "id": "QHF8YVU7Yuh3"
      }
    },
    {
      "cell_type": "markdown",
      "source": [
        "Answer Here."
      ],
      "metadata": {
        "id": "dcxuIMRPYuh3"
      }
    },
    {
      "cell_type": "markdown",
      "source": [
        "##### 2. What is/are the insight(s) found from the chart?"
      ],
      "metadata": {
        "id": "GwzvFGzlYuh3"
      }
    },
    {
      "cell_type": "markdown",
      "source": [
        "Answer Here"
      ],
      "metadata": {
        "id": "uyqkiB8YYuh3"
      }
    },
    {
      "cell_type": "markdown",
      "source": [
        "##### 3. Will the gained insights help creating a positive business impact? \n",
        "Are there any insights that lead to negative growth? Justify with specific reason."
      ],
      "metadata": {
        "id": "qYpmQ266Yuh3"
      }
    },
    {
      "cell_type": "markdown",
      "source": [
        "Answer Here"
      ],
      "metadata": {
        "id": "_WtzZ_hCYuh4"
      }
    },
    {
      "cell_type": "markdown",
      "source": [
        "#### Chart - 6"
      ],
      "metadata": {
        "id": "OH-pJp9IphqM"
      }
    },
    {
      "cell_type": "code",
      "source": [
        "# Chart - 6 visualization code"
      ],
      "metadata": {
        "id": "kuRf4wtuphqN"
      },
      "execution_count": null,
      "outputs": []
    },
    {
      "cell_type": "markdown",
      "source": [
        "##### 1. Why did you pick the specific chart?"
      ],
      "metadata": {
        "id": "bbFf2-_FphqN"
      }
    },
    {
      "cell_type": "markdown",
      "source": [
        "Answer Here."
      ],
      "metadata": {
        "id": "loh7H2nzphqN"
      }
    },
    {
      "cell_type": "markdown",
      "source": [
        "##### 2. What is/are the insight(s) found from the chart?"
      ],
      "metadata": {
        "id": "_ouA3fa0phqN"
      }
    },
    {
      "cell_type": "markdown",
      "source": [
        "Answer Here"
      ],
      "metadata": {
        "id": "VECbqPI7phqN"
      }
    },
    {
      "cell_type": "markdown",
      "source": [
        "##### 3. Will the gained insights help creating a positive business impact? \n",
        "Are there any insights that lead to negative growth? Justify with specific reason."
      ],
      "metadata": {
        "id": "Seke61FWphqN"
      }
    },
    {
      "cell_type": "markdown",
      "source": [
        "Answer Here"
      ],
      "metadata": {
        "id": "DW4_bGpfphqN"
      }
    },
    {
      "cell_type": "markdown",
      "source": [
        "#### Chart - 7"
      ],
      "metadata": {
        "id": "PIIx-8_IphqN"
      }
    },
    {
      "cell_type": "code",
      "source": [
        "# Chart - 7 visualization code"
      ],
      "metadata": {
        "id": "lqAIGUfyphqO"
      },
      "execution_count": null,
      "outputs": []
    },
    {
      "cell_type": "markdown",
      "source": [
        "##### 1. Why did you pick the specific chart?"
      ],
      "metadata": {
        "id": "t27r6nlMphqO"
      }
    },
    {
      "cell_type": "markdown",
      "source": [
        "Answer Here."
      ],
      "metadata": {
        "id": "iv6ro40sphqO"
      }
    },
    {
      "cell_type": "markdown",
      "source": [
        "##### 2. What is/are the insight(s) found from the chart?"
      ],
      "metadata": {
        "id": "r2jJGEOYphqO"
      }
    },
    {
      "cell_type": "markdown",
      "source": [
        "Answer Here"
      ],
      "metadata": {
        "id": "Po6ZPi4hphqO"
      }
    },
    {
      "cell_type": "markdown",
      "source": [
        "##### 3. Will the gained insights help creating a positive business impact? \n",
        "Are there any insights that lead to negative growth? Justify with specific reason."
      ],
      "metadata": {
        "id": "b0JNsNcRphqO"
      }
    },
    {
      "cell_type": "markdown",
      "source": [
        "Answer Here"
      ],
      "metadata": {
        "id": "xvSq8iUTphqO"
      }
    },
    {
      "cell_type": "markdown",
      "source": [
        "#### Chart - 8"
      ],
      "metadata": {
        "id": "BZR9WyysphqO"
      }
    },
    {
      "cell_type": "code",
      "source": [
        "# Chart - 8 visualization code"
      ],
      "metadata": {
        "id": "TdPTWpAVphqO"
      },
      "execution_count": null,
      "outputs": []
    },
    {
      "cell_type": "markdown",
      "source": [
        "##### 1. Why did you pick the specific chart?"
      ],
      "metadata": {
        "id": "jj7wYXLtphqO"
      }
    },
    {
      "cell_type": "markdown",
      "source": [
        "Answer Here."
      ],
      "metadata": {
        "id": "Ob8u6rCTphqO"
      }
    },
    {
      "cell_type": "markdown",
      "source": [
        "##### 2. What is/are the insight(s) found from the chart?"
      ],
      "metadata": {
        "id": "eZrbJ2SmphqO"
      }
    },
    {
      "cell_type": "markdown",
      "source": [
        "Answer Here"
      ],
      "metadata": {
        "id": "mZtgC_hjphqO"
      }
    },
    {
      "cell_type": "markdown",
      "source": [
        "##### 3. Will the gained insights help creating a positive business impact? \n",
        "Are there any insights that lead to negative growth? Justify with specific reason."
      ],
      "metadata": {
        "id": "rFu4xreNphqO"
      }
    },
    {
      "cell_type": "markdown",
      "source": [
        "Answer Here"
      ],
      "metadata": {
        "id": "ey_0qi68phqO"
      }
    },
    {
      "cell_type": "markdown",
      "source": [
        "#### Chart - 9"
      ],
      "metadata": {
        "id": "YJ55k-q6phqO"
      }
    },
    {
      "cell_type": "code",
      "source": [
        "# Chart - 9 visualization code"
      ],
      "metadata": {
        "id": "B2aS4O1ophqO"
      },
      "execution_count": null,
      "outputs": []
    },
    {
      "cell_type": "markdown",
      "source": [
        "##### 1. Why did you pick the specific chart?"
      ],
      "metadata": {
        "id": "gCFgpxoyphqP"
      }
    },
    {
      "cell_type": "markdown",
      "source": [
        "Answer Here."
      ],
      "metadata": {
        "id": "TVxDimi2phqP"
      }
    },
    {
      "cell_type": "markdown",
      "source": [
        "##### 2. What is/are the insight(s) found from the chart?"
      ],
      "metadata": {
        "id": "OVtJsKN_phqQ"
      }
    },
    {
      "cell_type": "markdown",
      "source": [
        "Answer Here"
      ],
      "metadata": {
        "id": "ngGi97qjphqQ"
      }
    },
    {
      "cell_type": "markdown",
      "source": [
        "##### 3. Will the gained insights help creating a positive business impact? \n",
        "Are there any insights that lead to negative growth? Justify with specific reason."
      ],
      "metadata": {
        "id": "lssrdh5qphqQ"
      }
    },
    {
      "cell_type": "markdown",
      "source": [
        "Answer Here"
      ],
      "metadata": {
        "id": "tBpY5ekJphqQ"
      }
    },
    {
      "cell_type": "markdown",
      "source": [
        "#### Chart - 10"
      ],
      "metadata": {
        "id": "U2RJ9gkRphqQ"
      }
    },
    {
      "cell_type": "code",
      "source": [
        "# Chart - 10 visualization code"
      ],
      "metadata": {
        "id": "GM7a4YP4phqQ"
      },
      "execution_count": null,
      "outputs": []
    },
    {
      "cell_type": "markdown",
      "source": [
        "##### 1. Why did you pick the specific chart?"
      ],
      "metadata": {
        "id": "1M8mcRywphqQ"
      }
    },
    {
      "cell_type": "markdown",
      "source": [
        "Answer Here."
      ],
      "metadata": {
        "id": "8agQvks0phqQ"
      }
    },
    {
      "cell_type": "markdown",
      "source": [
        "##### 2. What is/are the insight(s) found from the chart?"
      ],
      "metadata": {
        "id": "tgIPom80phqQ"
      }
    },
    {
      "cell_type": "markdown",
      "source": [
        "Answer Here"
      ],
      "metadata": {
        "id": "Qp13pnNzphqQ"
      }
    },
    {
      "cell_type": "markdown",
      "source": [
        "##### 3. Will the gained insights help creating a positive business impact? \n",
        "Are there any insights that lead to negative growth? Justify with specific reason."
      ],
      "metadata": {
        "id": "JMzcOPDDphqR"
      }
    },
    {
      "cell_type": "markdown",
      "source": [
        "Answer Here"
      ],
      "metadata": {
        "id": "R4Ka1PC2phqR"
      }
    },
    {
      "cell_type": "markdown",
      "source": [
        "#### Chart - 11"
      ],
      "metadata": {
        "id": "x-EpHcCOp1ci"
      }
    },
    {
      "cell_type": "code",
      "source": [
        "# Chart - 11 visualization code"
      ],
      "metadata": {
        "id": "mAQTIvtqp1cj"
      },
      "execution_count": null,
      "outputs": []
    },
    {
      "cell_type": "markdown",
      "source": [
        "##### 1. Why did you pick the specific chart?"
      ],
      "metadata": {
        "id": "X_VqEhTip1ck"
      }
    },
    {
      "cell_type": "markdown",
      "source": [
        "Answer Here."
      ],
      "metadata": {
        "id": "-vsMzt_np1ck"
      }
    },
    {
      "cell_type": "markdown",
      "source": [
        "##### 2. What is/are the insight(s) found from the chart?"
      ],
      "metadata": {
        "id": "8zGJKyg5p1ck"
      }
    },
    {
      "cell_type": "markdown",
      "source": [
        "Answer Here"
      ],
      "metadata": {
        "id": "ZYdMsrqVp1ck"
      }
    },
    {
      "cell_type": "markdown",
      "source": [
        "##### 3. Will the gained insights help creating a positive business impact? \n",
        "Are there any insights that lead to negative growth? Justify with specific reason."
      ],
      "metadata": {
        "id": "PVzmfK_Ep1ck"
      }
    },
    {
      "cell_type": "markdown",
      "source": [
        "Answer Here"
      ],
      "metadata": {
        "id": "druuKYZpp1ck"
      }
    },
    {
      "cell_type": "markdown",
      "source": [
        "#### Chart - 12"
      ],
      "metadata": {
        "id": "n3dbpmDWp1ck"
      }
    },
    {
      "cell_type": "code",
      "source": [
        "# Chart - 12 visualization code"
      ],
      "metadata": {
        "id": "bwevp1tKp1ck"
      },
      "execution_count": null,
      "outputs": []
    },
    {
      "cell_type": "markdown",
      "source": [
        "##### 1. Why did you pick the specific chart?"
      ],
      "metadata": {
        "id": "ylSl6qgtp1ck"
      }
    },
    {
      "cell_type": "markdown",
      "source": [
        "Answer Here."
      ],
      "metadata": {
        "id": "m2xqNkiQp1ck"
      }
    },
    {
      "cell_type": "markdown",
      "source": [
        "##### 2. What is/are the insight(s) found from the chart?"
      ],
      "metadata": {
        "id": "ZWILFDl5p1ck"
      }
    },
    {
      "cell_type": "markdown",
      "source": [
        "Answer Here"
      ],
      "metadata": {
        "id": "x-lUsV2mp1ck"
      }
    },
    {
      "cell_type": "markdown",
      "source": [
        "##### 3. Will the gained insights help creating a positive business impact? \n",
        "Are there any insights that lead to negative growth? Justify with specific reason."
      ],
      "metadata": {
        "id": "M7G43BXep1ck"
      }
    },
    {
      "cell_type": "markdown",
      "source": [
        "Answer Here"
      ],
      "metadata": {
        "id": "5wwDJXsLp1cl"
      }
    },
    {
      "cell_type": "markdown",
      "source": [
        "#### Chart - 13"
      ],
      "metadata": {
        "id": "Ag9LCva-p1cl"
      }
    },
    {
      "cell_type": "code",
      "source": [
        "# Chart - 13 visualization code"
      ],
      "metadata": {
        "id": "EUfxeq9-p1cl"
      },
      "execution_count": null,
      "outputs": []
    },
    {
      "cell_type": "markdown",
      "source": [
        "##### 1. Why did you pick the specific chart?"
      ],
      "metadata": {
        "id": "E6MkPsBcp1cl"
      }
    },
    {
      "cell_type": "markdown",
      "source": [
        "Answer Here."
      ],
      "metadata": {
        "id": "V22bRsFWp1cl"
      }
    },
    {
      "cell_type": "markdown",
      "source": [
        "##### 2. What is/are the insight(s) found from the chart?"
      ],
      "metadata": {
        "id": "2cELzS2fp1cl"
      }
    },
    {
      "cell_type": "markdown",
      "source": [
        "Answer Here"
      ],
      "metadata": {
        "id": "ozQPc2_Ip1cl"
      }
    },
    {
      "cell_type": "markdown",
      "source": [
        "##### 3. Will the gained insights help creating a positive business impact? \n",
        "Are there any insights that lead to negative growth? Justify with specific reason."
      ],
      "metadata": {
        "id": "3MPXvC8up1cl"
      }
    },
    {
      "cell_type": "markdown",
      "source": [
        "Answer Here"
      ],
      "metadata": {
        "id": "GL8l1tdLp1cl"
      }
    },
    {
      "cell_type": "markdown",
      "source": [
        "#### Chart - 14 - Correlation Heatmap"
      ],
      "metadata": {
        "id": "NC_X3p0fY2L0"
      }
    },
    {
      "cell_type": "code",
      "source": [
        "# Correlation Heatmap visualization code"
      ],
      "metadata": {
        "id": "xyC9zolEZNRQ"
      },
      "execution_count": null,
      "outputs": []
    },
    {
      "cell_type": "markdown",
      "source": [
        "##### 1. Why did you pick the specific chart?"
      ],
      "metadata": {
        "id": "UV0SzAkaZNRQ"
      }
    },
    {
      "cell_type": "markdown",
      "source": [
        "Answer Here."
      ],
      "metadata": {
        "id": "DVPuT8LYZNRQ"
      }
    },
    {
      "cell_type": "markdown",
      "source": [
        "##### 2. What is/are the insight(s) found from the chart?"
      ],
      "metadata": {
        "id": "YPEH6qLeZNRQ"
      }
    },
    {
      "cell_type": "markdown",
      "source": [
        "Answer Here"
      ],
      "metadata": {
        "id": "bfSqtnDqZNRR"
      }
    },
    {
      "cell_type": "markdown",
      "source": [
        "#### Chart - 15 - Pair Plot "
      ],
      "metadata": {
        "id": "q29F0dvdveiT"
      }
    },
    {
      "cell_type": "code",
      "source": [
        "# Pair Plot visualization code"
      ],
      "metadata": {
        "id": "o58-TEIhveiU"
      },
      "execution_count": null,
      "outputs": []
    },
    {
      "cell_type": "markdown",
      "source": [
        "##### 1. Why did you pick the specific chart?"
      ],
      "metadata": {
        "id": "EXh0U9oCveiU"
      }
    },
    {
      "cell_type": "markdown",
      "source": [
        "Answer Here."
      ],
      "metadata": {
        "id": "eMmPjTByveiU"
      }
    },
    {
      "cell_type": "markdown",
      "source": [
        "##### 2. What is/are the insight(s) found from the chart?"
      ],
      "metadata": {
        "id": "22aHeOlLveiV"
      }
    },
    {
      "cell_type": "markdown",
      "source": [
        "Answer Here"
      ],
      "metadata": {
        "id": "uPQ8RGwHveiV"
      }
    },
    {
      "cell_type": "markdown",
      "source": [
        "## **5. Solution to Business Objective**"
      ],
      "metadata": {
        "id": "JcMwzZxoAimU"
      }
    },
    {
      "cell_type": "markdown",
      "source": [
        "#### What do you suggest the client to achieve Business Objective ? \n",
        "Explain Briefly."
      ],
      "metadata": {
        "id": "8G2x9gOozGDZ"
      }
    },
    {
      "cell_type": "markdown",
      "source": [
        "Answer Here."
      ],
      "metadata": {
        "id": "pASKb0qOza21"
      }
    },
    {
      "cell_type": "markdown",
      "source": [
        "# **Conclusion**"
      ],
      "metadata": {
        "id": "gCX9965dhzqZ"
      }
    },
    {
      "cell_type": "markdown",
      "source": [
        "1) City hotels are the most preferred hotel type by the guests and we can say City hotel is the busiest hotel. Hence, City hotel seems to be making more revenue.\n",
        "\n",
        "2) We get to know that 98.7% of the guests prefer \"No deposit\" type of deposit\n",
        "\n",
        "3) Only 3.9% people revisit the hotels. Rest 96.1 % were new guests.Therefore retention rate is low.\n",
        "\n",
        "4) We can say the peak months are : August, July, May(Summer Time).\n",
        "\n",
        "5) Most of the customers (91.6%) do not require car parking spaces.\n",
        "\n",
        "6) Most of the bookings were made through TA/TO (travel agents/Tour operators).\n",
        "\n",
        "7) People generally prefer long stays on weekdays rather than weekends.\n",
        "\n",
        "8) We see that majority of the rooms booked are couple rooms\n",
        "\n",
        "9) Majority of the customers prefer online booking rather than offline booking.\n",
        "\n",
        "10) Average ADR for city hotel is high as compared to resort hotels. These City hotels are generating more revenue than the resort hotels.\n",
        "\n",
        "11) Booking cancellation rate is high for City hotels which almost 45%.\n",
        "\n",
        "12) Average lead time for resort hotel is high.\n",
        "\n",
        "13) Waiting time period for City hotel is high as compared to resort hotels. That means city hotels are much busier than Resort hotels.\n",
        "\n",
        "14) Resort hotels have the most repeated guests.\n",
        "\n",
        "15) Best stay in both the type hotel is less than 7 days.\n",
        "\n",
        "16) Majority of the customers has got the room type they have booked.\n",
        "\n",
        "17) City Hotel has the highest booking cancellation percentage."
      ],
      "metadata": {
        "id": "Fjb1IsQkh3yE"
      }
    }
  ]
}